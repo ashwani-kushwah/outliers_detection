{
 "cells": [
  {
   "cell_type": "code",
   "execution_count": 1,
   "id": "aef92048",
   "metadata": {},
   "outputs": [],
   "source": [
    "import numpy as np\n",
    "import matplotlib.pyplot as plt\n",
    "%matplotlib inline\n",
    "import seaborn as sns"
   ]
  },
  {
   "cell_type": "code",
   "execution_count": 2,
   "id": "c2ba0abf",
   "metadata": {},
   "outputs": [],
   "source": [
    "# data set\n",
    "dataset = [12, 11, 17, 18, 21, 103, 16, 14, 14, 18, 9, 7, 8, 5, 98, 95, 3]"
   ]
  },
  {
   "cell_type": "code",
   "execution_count": 3,
   "id": "8cdccd18",
   "metadata": {},
   "outputs": [
    {
     "data": {
      "text/plain": [
       "(array([7., 7., 0., 0., 0., 0., 0., 0., 0., 3.]),\n",
       " array([  3.,  13.,  23.,  33.,  43.,  53.,  63.,  73.,  83.,  93., 103.]),\n",
       " <BarContainer object of 10 artists>)"
      ]
     },
     "execution_count": 3,
     "metadata": {},
     "output_type": "execute_result"
    },
    {
     "data": {
      "image/png": "[encoded data removed]",
      "text/plain": [
       "<Figure size 640x480 with 1 Axes>"
      ]
     },
     "metadata": {},
     "output_type": "display_data"
    }
   ],
   "source": [
    "plt.hist(dataset)"
   ]
  },
  {
   "cell_type": "markdown",
   "id": "7d1b7855",
   "metadata": {},
   "source": [
    "### Finding Outlier Using IQR\n",
    "1. Sort the data in ascending\n",
    "2. Calculate the Q1(25%) and Q3(75%) and IQR = Q3-Q1\n",
    "3. Find the Lower fence (Q1 - 1.5*(IQR)) \n",
    "4. Upper fence (Q3 + 1.5*(IQR))"
   ]
  },
  {
   "cell_type": "code",
   "execution_count": 4,
   "id": "091a5f70",
   "metadata": {},
   "outputs": [],
   "source": [
    "# sorting the data\n",
    "dataset.sort()"
   ]
  },
  {
   "cell_type": "code",
   "execution_count": 5,
   "id": "077a02d7",
   "metadata": {},
   "outputs": [],
   "source": [
    "# calculating Q1 & Q3\n",
    "q1, q3 = np.percentile(dataset, [25, 75])"
   ]
  },
  {
   "cell_type": "code",
   "execution_count": 6,
   "id": "2d845dde",
   "metadata": {},
   "outputs": [],
   "source": [
    "# calculating IQR\n",
    "iqr = q3 - q1"
   ]
  },
  {
   "cell_type": "code",
   "execution_count": 7,
   "id": "b8bc237a",
   "metadata": {},
   "outputs": [
    {
     "name": "stdout",
     "output_type": "stream",
     "text": [
      "-4.5 31.5\n"
     ]
    }
   ],
   "source": [
    "# finding lower fence & Upper fence\n",
    "lf = q1 - (1.5*iqr)\n",
    "uf = q3 + (1.5*iqr)\n",
    "print(lf, uf)"
   ]
  },
  {
   "cell_type": "code",
   "execution_count": 8,
   "id": "867aa0c9",
   "metadata": {},
   "outputs": [
    {
     "name": "stdout",
     "output_type": "stream",
     "text": [
      "[95, 98, 103]\n"
     ]
    }
   ],
   "source": [
    "# finding outliers\n",
    "outliers=[]\n",
    "\n",
    "for i in dataset:\n",
    "    if i < lf or i > uf:\n",
    "        outliers.append(i)\n",
    "print(outliers)"
   ]
  },
  {
   "cell_type": "code",
   "execution_count": 9,
   "id": "bf37478d",
   "metadata": {},
   "outputs": [
    {
     "data": {
      "text/plain": [
       "<Axes: >"
      ]
     },
     "execution_count": 9,
     "metadata": {},
     "output_type": "execute_result"
    },
    {
     "data": {
      "image/png": "[encoded data removed]",
      "text/plain": [
       "<Figure size 640x480 with 1 Axes>"
      ]
     },
     "metadata": {},
     "output_type": "display_data"
    }
   ],
   "source": [
    "sns.boxplot(dataset)"
   ]
  },
  {
   "cell_type": "markdown",
   "id": "879aa9ff",
   "metadata": {},
   "source": [
    "### Finding Outlier Using Z-Score"
   ]
  },
  {
   "cell_type": "code",
   "execution_count": 10,
   "id": "343f213e",
   "metadata": {},
   "outputs": [],
   "source": [
    "# z-score method\n",
    "outliers=[]\n",
    "def detect_outliers(data):\n",
    "    threshold = 2   #2nd standard deviation\n",
    "    mean = np.mean(data)\n",
    "    std = np.std(data)\n",
    "    \n",
    "    for i in data:\n",
    "        z_score = (i-mean)/std\n",
    "        if np.abs(z_score)>threshold:\n",
    "            outliers.append(i)\n",
    "    return outliers"
   ]
  },
  {
   "cell_type": "code",
   "execution_count": 11,
   "id": "677b7c75",
   "metadata": {},
   "outputs": [
    {
     "data": {
      "text/plain": [
       "[95, 98, 103]"
      ]
     },
     "execution_count": 11,
     "metadata": {},
     "output_type": "execute_result"
    }
   ],
   "source": [
    "detect_outliers(dataset)"
   ]
  }
 ],
 "metadata": {
  "kernelspec": {
   "display_name": "Python 3 (ipykernel)",
   "language": "python",
   "name": "python3"
  },
  "language_info": {
   "codemirror_mode": {
    "name": "ipython",
    "version": 3
   },
   "file_extension": ".py",
   "mimetype": "text/x-python",
   "name": "python",
   "nbconvert_exporter": "python",
   "pygments_lexer": "ipython3",
   "version": "3.10.4"
  }
 },
 "nbformat": 4,
 "nbformat_minor": 5
}
